{
 "cells": [
  {
   "cell_type": "code",
   "execution_count": 1,
   "metadata": {
    "colab": {},
    "colab_type": "code",
    "id": "Z7D3k18vEPeJ"
   },
   "outputs": [],
   "source": [
    "%matplotlib inline"
   ]
  },
  {
   "cell_type": "code",
   "execution_count": 2,
   "metadata": {
    "colab": {},
    "colab_type": "code",
    "id": "Ru2KtluyK7oq"
   },
   "outputs": [],
   "source": [
    "import os\n",
    "import pickle\n",
    "import pandas as pd\n",
    "import matplotlib.pyplot as plt\n",
    "import numpy as np\n",
    "from bs4 import BeautifulSoup"
   ]
  },
  {
   "cell_type": "code",
   "execution_count": 4,
   "metadata": {
    "colab": {},
    "colab_type": "code",
    "id": "3sEeIQBJaqNU"
   },
   "outputs": [],
   "source": [
    "from sklearn.feature_extraction.text import TfidfVectorizer, CountVectorizer\n",
    "from sklearn.ensemble import GradientBoostingClassifier\n",
    "from sklearn.svm import LinearSVR, LinearSVC, SVC\n",
    "from sklearn.ensemble import RandomForestClassifier, AdaBoostClassifier, ExtraTreesClassifier\n",
    "from sklearn.ensemble import VotingClassifier, BaggingClassifier\n",
    "from sklearn.linear_model import LogisticRegression, RidgeClassifier\n",
    "from sklearn.model_selection import cross_val_score, GridSearchCV\n",
    "from sklearn.metrics import classification_report, confusion_matrix\n",
    "from sklearn.model_selection import train_test_split\n",
    "from sklearn.pipeline import Pipeline, FeatureUnion\n",
    "from sklearn.preprocessing import LabelEncoder\n",
    "from sklearn.utils import shuffle\n",
    "from sklearn.compose import ColumnTransformer\n",
    "from sklearn.decomposition import PCA, TruncatedSVD\n",
    "from sklearn.neighbors import KNeighborsClassifier\n",
    "from sklearn import metrics\n",
    "from sklearn.base import BaseEstimator, TransformerMixin\n",
    "from sklearn.preprocessing import StandardScaler, Normalizer"
   ]
  },
  {
   "cell_type": "code",
   "execution_count": 5,
   "metadata": {
    "colab": {},
    "colab_type": "code",
    "id": "dMW69m0Cafjv"
   },
   "outputs": [],
   "source": [
    "from numpy.random import seed\n",
    "seed(1)"
   ]
  },
  {
   "cell_type": "code",
   "execution_count": 6,
   "metadata": {},
   "outputs": [],
   "source": [
    "data_dir = './'"
   ]
  },
  {
   "cell_type": "code",
   "execution_count": 7,
   "metadata": {
    "colab": {
     "base_uri": "https://localhost:8080/",
     "height": 34
    },
    "colab_type": "code",
    "executionInfo": {
     "elapsed": 5162,
     "status": "ok",
     "timestamp": 1573062880861,
     "user": {
      "displayName": "Pranav Dhakras",
      "photoUrl": "https://lh3.googleusercontent.com/a-/AAuE7mBp8lVnPLEV-c5zr6EHKCyDFslImxAjVOeIkEh8bg=s64",
      "userId": "09417730221656100181"
     },
     "user_tz": -330
    },
    "id": "BVk3XPPq2pQS",
    "outputId": "b0f46981-737d-4792-c49a-a41c57f8746f"
   },
   "outputs": [],
   "source": [
    "# from google.colab import drive\n",
    "# drive.mount('/content/gdrive')\n",
    "\n",
    "# data_dir = '/content/gdrive/My Drive/ML colab datasets/crowdflower-search-relevance'\n",
    "\n",
    "# !cp -v '{data_dir}/kappa_intuition.py' ./\n",
    "\n",
    "\n",
    "# !mkdir -p /root/.kaggle\n",
    "# !cp -v '{data_dir}/kaggle.json' /root/.kaggle/"
   ]
  },
  {
   "cell_type": "code",
   "execution_count": 8,
   "metadata": {
    "colab": {},
    "colab_type": "code",
    "id": "gUyrVYZT72bk"
   },
   "outputs": [],
   "source": [
    "from kappa_intuition import quadratic_weighted_kappa"
   ]
  },
  {
   "cell_type": "code",
   "execution_count": 9,
   "metadata": {
    "colab": {
     "base_uri": "https://localhost:8080/",
     "height": 51
    },
    "colab_type": "code",
    "executionInfo": {
     "elapsed": 8062,
     "status": "ok",
     "timestamp": 1573061979664,
     "user": {
      "displayName": "Pranav Dhakras",
      "photoUrl": "https://lh3.googleusercontent.com/a-/AAuE7mBp8lVnPLEV-c5zr6EHKCyDFslImxAjVOeIkEh8bg=s64",
      "userId": "09417730221656100181"
     },
     "user_tz": -330
    },
    "id": "s3ECgYnEGE6z",
    "outputId": "49cc159a-3256-448c-c0e4-9e8ab2fbd81e"
   },
   "outputs": [
    {
     "name": "stdout",
     "output_type": "stream",
     "text": [
      "Makefile                   submission.csv\r\n",
      "\u001b[34m__pycache__\u001b[m\u001b[m                test.csv\r\n",
      "glove.6B.100d.txt          tfidf_voting.ipynb\r\n",
      "kaggle.json                train.csv\r\n",
      "kappa_intuition.py         \u001b[34mvenv\u001b[m\u001b[m\r\n",
      "requirements.txt           word_lstm_multi_head.ipynb\r\n",
      "sampleSubmission.csv\r\n"
     ]
    }
   ],
   "source": [
    "!ls '{data_dir}'"
   ]
  },
  {
   "cell_type": "code",
   "execution_count": 10,
   "metadata": {
    "colab": {},
    "colab_type": "code",
    "id": "vaae6AYOF5pJ"
   },
   "outputs": [],
   "source": [
    "# from google.colab import files\n",
    "# uploaded = files.upload()"
   ]
  },
  {
   "cell_type": "code",
   "execution_count": 11,
   "metadata": {
    "colab": {},
    "colab_type": "code",
    "id": "u8x9NAkna5jd"
   },
   "outputs": [],
   "source": [
    "pipeline_path = data_dir + 'pipeline.pkl'"
   ]
  },
  {
   "cell_type": "code",
   "execution_count": 12,
   "metadata": {
    "colab": {
     "base_uri": "https://localhost:8080/",
     "height": 204
    },
    "colab_type": "code",
    "executionInfo": {
     "elapsed": 8044,
     "status": "ok",
     "timestamp": 1573061979665,
     "user": {
      "displayName": "Pranav Dhakras",
      "photoUrl": "https://lh3.googleusercontent.com/a-/AAuE7mBp8lVnPLEV-c5zr6EHKCyDFslImxAjVOeIkEh8bg=s64",
      "userId": "09417730221656100181"
     },
     "user_tz": -330
    },
    "id": "8Dxyb9ua8fUp",
    "outputId": "85e842b4-e853-484e-92f3-7918d7863942"
   },
   "outputs": [
    {
     "data": {
      "text/html": [
       "<div>\n",
       "<style scoped>\n",
       "    .dataframe tbody tr th:only-of-type {\n",
       "        vertical-align: middle;\n",
       "    }\n",
       "\n",
       "    .dataframe tbody tr th {\n",
       "        vertical-align: top;\n",
       "    }\n",
       "\n",
       "    .dataframe thead th {\n",
       "        text-align: right;\n",
       "    }\n",
       "</style>\n",
       "<table border=\"1\" class=\"dataframe\">\n",
       "  <thead>\n",
       "    <tr style=\"text-align: right;\">\n",
       "      <th></th>\n",
       "      <th>id</th>\n",
       "      <th>query</th>\n",
       "      <th>product_title</th>\n",
       "      <th>product_description</th>\n",
       "      <th>median_relevance</th>\n",
       "      <th>relevance_variance</th>\n",
       "    </tr>\n",
       "  </thead>\n",
       "  <tbody>\n",
       "    <tr>\n",
       "      <th>9427</th>\n",
       "      <td>30313</td>\n",
       "      <td>digital camera</td>\n",
       "      <td>FUJIFILM Black FinePix S8630 16 MP 36x Optical...</td>\n",
       "      <td>The FinePix S8600 bridge camera features a pow...</td>\n",
       "      <td>4</td>\n",
       "      <td>0.400</td>\n",
       "    </tr>\n",
       "    <tr>\n",
       "      <th>2378</th>\n",
       "      <td>7576</td>\n",
       "      <td>baseball cleats</td>\n",
       "      <td>Easton Women's Redline Low Softball Cleat</td>\n",
       "      <td>Easton incorporates leading technology and des...</td>\n",
       "      <td>3</td>\n",
       "      <td>0.980</td>\n",
       "    </tr>\n",
       "    <tr>\n",
       "      <th>8293</th>\n",
       "      <td>26717</td>\n",
       "      <td>girls halloween costumes</td>\n",
       "      <td>Dress Up America Girls' 'Japanese Girl' Costume</td>\n",
       "      <td>This Japanese Girl costume from Dress Up Ameri...</td>\n",
       "      <td>4</td>\n",
       "      <td>0.471</td>\n",
       "    </tr>\n",
       "    <tr>\n",
       "      <th>9042</th>\n",
       "      <td>29066</td>\n",
       "      <td>car jump starter</td>\n",
       "      <td>Stanley 500 AMP/1000 PEAK AMP Battery Jump Sta...</td>\n",
       "      <td>Don't get stranded. This 500 instant/1000 peak...</td>\n",
       "      <td>3</td>\n",
       "      <td>0.471</td>\n",
       "    </tr>\n",
       "    <tr>\n",
       "      <th>1024</th>\n",
       "      <td>3315</td>\n",
       "      <td>micro usb to hdmi</td>\n",
       "      <td>Insten Micro USB to HDMI MHL Adapter + AC Char...</td>\n",
       "      <td></td>\n",
       "      <td>4</td>\n",
       "      <td>0.000</td>\n",
       "    </tr>\n",
       "  </tbody>\n",
       "</table>\n",
       "</div>"
      ],
      "text/plain": [
       "         id                     query  \\\n",
       "9427  30313            digital camera   \n",
       "2378   7576           baseball cleats   \n",
       "8293  26717  girls halloween costumes   \n",
       "9042  29066          car jump starter   \n",
       "1024   3315         micro usb to hdmi   \n",
       "\n",
       "                                          product_title  \\\n",
       "9427  FUJIFILM Black FinePix S8630 16 MP 36x Optical...   \n",
       "2378          Easton Women's Redline Low Softball Cleat   \n",
       "8293    Dress Up America Girls' 'Japanese Girl' Costume   \n",
       "9042  Stanley 500 AMP/1000 PEAK AMP Battery Jump Sta...   \n",
       "1024  Insten Micro USB to HDMI MHL Adapter + AC Char...   \n",
       "\n",
       "                                    product_description  median_relevance  \\\n",
       "9427  The FinePix S8600 bridge camera features a pow...                 4   \n",
       "2378  Easton incorporates leading technology and des...                 3   \n",
       "8293  This Japanese Girl costume from Dress Up Ameri...                 4   \n",
       "9042  Don't get stranded. This 500 instant/1000 peak...                 3   \n",
       "1024                                                                    4   \n",
       "\n",
       "      relevance_variance  \n",
       "9427               0.400  \n",
       "2378               0.980  \n",
       "8293               0.471  \n",
       "9042               0.471  \n",
       "1024               0.000  "
      ]
     },
     "execution_count": 12,
     "metadata": {},
     "output_type": "execute_result"
    }
   ],
   "source": [
    "train_file = f'{data_dir}/train.csv'\n",
    "df = pd.read_csv(train_file)\n",
    "df.fillna('', inplace=True)\n",
    "df = shuffle(df)\n",
    "df.head()"
   ]
  },
  {
   "cell_type": "code",
   "execution_count": 13,
   "metadata": {
    "colab": {},
    "colab_type": "code",
    "id": "eOPJ4zISGyit"
   },
   "outputs": [
    {
     "name": "stdout",
     "output_type": "stream",
     "text": [
      "[nltk_data] Error loading book: <urlopen error [SSL:\n",
      "[nltk_data]     CERTIFICATE_VERIFY_FAILED] certificate verify failed\n",
      "[nltk_data]     (_ssl.c:852)>\n"
     ]
    }
   ],
   "source": [
    "import nltk\n",
    "nltk.download('book')\n",
    "from nltk import word_tokenize\n",
    "from nltk.stem import PorterStemmer"
   ]
  },
  {
   "cell_type": "code",
   "execution_count": 15,
   "metadata": {
    "colab": {},
    "colab_type": "code",
    "id": "VE4-YSZA1SQ7"
   },
   "outputs": [],
   "source": [
    "stemmer = PorterStemmer()"
   ]
  },
  {
   "cell_type": "code",
   "execution_count": 16,
   "metadata": {
    "colab": {},
    "colab_type": "code",
    "id": "5nTvwzY_srUI"
   },
   "outputs": [],
   "source": [
    "def loadGloveModel(glove_file):\n",
    "    print(\"Loading Glove Model\")\n",
    "    model = {}\n",
    "    with open(glove_file,'r') as f:\n",
    "        for line in f:\n",
    "            splitLine = line.split()\n",
    "            word = splitLine[0]\n",
    "            embedding = np.array([float(val) for val in splitLine[1:]])\n",
    "            model[word] = embedding\n",
    "    print(\"Done.\",len(model),\" words loaded!\")\n",
    "    return model"
   ]
  },
  {
   "cell_type": "code",
   "execution_count": 17,
   "metadata": {
    "colab": {
     "base_uri": "https://localhost:8080/",
     "height": 51
    },
    "colab_type": "code",
    "executionInfo": {
     "elapsed": 24247,
     "status": "ok",
     "timestamp": 1573061995897,
     "user": {
      "displayName": "Pranav Dhakras",
      "photoUrl": "https://lh3.googleusercontent.com/a-/AAuE7mBp8lVnPLEV-c5zr6EHKCyDFslImxAjVOeIkEh8bg=s64",
      "userId": "09417730221656100181"
     },
     "user_tz": -330
    },
    "id": "RPlqAm4Cs0kF",
    "outputId": "c70c1af7-cc20-4cb2-a7a0-fbad6b22a126"
   },
   "outputs": [
    {
     "name": "stdout",
     "output_type": "stream",
     "text": [
      "Loading Glove Model\n",
      "Done. 400000  words loaded!\n"
     ]
    }
   ],
   "source": [
    "glove_file = f'{data_dir}/glove.6B.100d.txt'\n",
    "try:\n",
    "    glove_model.keys()\n",
    "except:\n",
    "    glove_model = loadGloveModel(glove_file)"
   ]
  },
  {
   "cell_type": "code",
   "execution_count": 18,
   "metadata": {
    "colab": {},
    "colab_type": "code",
    "id": "oTIpohom-lKf"
   },
   "outputs": [],
   "source": [
    "def preprocess(text):\n",
    "    text = text.replace('\\\\n', '')\n",
    "    text = text.replace('\\\\t', ' ')\n",
    "    text = text.lower().strip()\n",
    "    # soup = BeautifulSoup(text)\n",
    "    # text = soup.get_text()\n",
    "    # text = ' '.join([stemmer.stem(w) for w in word_tokenize(text)])\n",
    "    return text"
   ]
  },
  {
   "cell_type": "code",
   "execution_count": 19,
   "metadata": {
    "colab": {},
    "colab_type": "code",
    "id": "7LVcabhAHeYh"
   },
   "outputs": [],
   "source": [
    "def get_num_words(text):\n",
    "    text = preprocess(text)\n",
    "    return len(text)"
   ]
  },
  {
   "cell_type": "code",
   "execution_count": 20,
   "metadata": {
    "colab": {},
    "colab_type": "code",
    "id": "5FcqvmRuHR3s"
   },
   "outputs": [],
   "source": [
    "def get_lengths(df):\n",
    "    return list(map(get_num_words, df))"
   ]
  },
  {
   "cell_type": "code",
   "execution_count": 21,
   "metadata": {
    "colab": {},
    "colab_type": "code",
    "id": "HlKzGyGuVB6h"
   },
   "outputs": [],
   "source": [
    "def get_data(df):\n",
    "    ids = list(df['id'])\n",
    "    queries = list(df['query'])\n",
    "    titles = list(df['product_title'])\n",
    "    # descs = list(df['product_description'])\n",
    "    outputs = list(df['median_relevance'])\n",
    "    return queries, titles, outputs"
   ]
  },
  {
   "cell_type": "code",
   "execution_count": 22,
   "metadata": {
    "colab": {
     "base_uri": "https://localhost:8080/",
     "height": 34
    },
    "colab_type": "code",
    "executionInfo": {
     "elapsed": 24215,
     "status": "ok",
     "timestamp": 1573061995901,
     "user": {
      "displayName": "Pranav Dhakras",
      "photoUrl": "https://lh3.googleusercontent.com/a-/AAuE7mBp8lVnPLEV-c5zr6EHKCyDFslImxAjVOeIkEh8bg=s64",
      "userId": "09417730221656100181"
     },
     "user_tz": -330
    },
    "id": "4a1aAi_VXAaQ",
    "outputId": "6b4ba537-9712-4758-f15b-beba4edd4aff"
   },
   "outputs": [
    {
     "data": {
      "text/plain": [
       "20316"
      ]
     },
     "execution_count": 22,
     "metadata": {},
     "output_type": "execute_result"
    }
   ],
   "source": [
    "queries, titles, outputs = get_data(df)\n",
    "queries = list(map(preprocess, queries))\n",
    "titles = list(map(preprocess, titles))\n",
    "all_text = queries + titles\n",
    "len(all_text)"
   ]
  },
  {
   "cell_type": "code",
   "execution_count": 23,
   "metadata": {
    "colab": {
     "base_uri": "https://localhost:8080/",
     "height": 34
    },
    "colab_type": "code",
    "executionInfo": {
     "elapsed": 24204,
     "status": "ok",
     "timestamp": 1573061995901,
     "user": {
      "displayName": "Pranav Dhakras",
      "photoUrl": "https://lh3.googleusercontent.com/a-/AAuE7mBp8lVnPLEV-c5zr6EHKCyDFslImxAjVOeIkEh8bg=s64",
      "userId": "09417730221656100181"
     },
     "user_tz": -330
    },
    "id": "oRzE5L0Hfx67",
    "outputId": "96488ee6-0c81-4096-ad8c-69c0f41c9dc6"
   },
   "outputs": [
    {
     "data": {
      "text/plain": [
       "(10158, 10158, 10158)"
      ]
     },
     "execution_count": 23,
     "metadata": {},
     "output_type": "execute_result"
    }
   ],
   "source": [
    "len(queries), len(titles), len(outputs)"
   ]
  },
  {
   "cell_type": "code",
   "execution_count": 24,
   "metadata": {
    "colab": {
     "base_uri": "https://localhost:8080/",
     "height": 136
    },
    "colab_type": "code",
    "executionInfo": {
     "elapsed": 24543,
     "status": "ok",
     "timestamp": 1573061996249,
     "user": {
      "displayName": "Pranav Dhakras",
      "photoUrl": "https://lh3.googleusercontent.com/a-/AAuE7mBp8lVnPLEV-c5zr6EHKCyDFslImxAjVOeIkEh8bg=s64",
      "userId": "09417730221656100181"
     },
     "user_tz": -330
    },
    "id": "QcMUQASDMcHH",
    "outputId": "87144915-9d6f-4180-8372-c97f1e52ba1f"
   },
   "outputs": [
    {
     "data": {
      "text/plain": [
       "TfidfVectorizer(analyzer='word', binary=False, decode_error='strict',\n",
       "                dtype=<class 'numpy.float64'>, encoding='utf-8',\n",
       "                input='content', lowercase=True, max_df=1.0, max_features=10000,\n",
       "                min_df=3, ngram_range=(1, 2), norm='l2', preprocessor=None,\n",
       "                smooth_idf=True, stop_words='english', strip_accents=None,\n",
       "                sublinear_tf=False, token_pattern='(?u)\\\\b\\\\w\\\\w+\\\\b',\n",
       "                tokenizer=None, use_idf=True, vocabulary=None)"
      ]
     },
     "execution_count": 24,
     "metadata": {},
     "output_type": "execute_result"
    }
   ],
   "source": [
    "tfidf_w = TfidfVectorizer(lowercase=True, analyzer='word', max_features=10000, min_df=3, ngram_range=(1,2), stop_words='english')\n",
    "tfidf_w.fit(all_text)"
   ]
  },
  {
   "cell_type": "code",
   "execution_count": 25,
   "metadata": {
    "colab": {},
    "colab_type": "code",
    "id": "ovzl_JBm58vj"
   },
   "outputs": [],
   "source": [
    "# CountVectorizer?"
   ]
  },
  {
   "cell_type": "code",
   "execution_count": 26,
   "metadata": {
    "colab": {
     "base_uri": "https://localhost:8080/",
     "height": 119
    },
    "colab_type": "code",
    "executionInfo": {
     "elapsed": 24503,
     "status": "ok",
     "timestamp": 1573061996251,
     "user": {
      "displayName": "Pranav Dhakras",
      "photoUrl": "https://lh3.googleusercontent.com/a-/AAuE7mBp8lVnPLEV-c5zr6EHKCyDFslImxAjVOeIkEh8bg=s64",
      "userId": "09417730221656100181"
     },
     "user_tz": -330
    },
    "id": "fYTEGhCYXEJo",
    "outputId": "301531cf-8efc-4ef3-a36b-53d3f241a1fa"
   },
   "outputs": [
    {
     "data": {
      "text/plain": [
       "CountVectorizer(analyzer='word', binary=False, decode_error='strict',\n",
       "                dtype=<class 'numpy.int64'>, encoding='utf-8', input='content',\n",
       "                lowercase=True, max_df=1.0, max_features=10000, min_df=3,\n",
       "                ngram_range=(1, 1), preprocessor=None, stop_words='english',\n",
       "                strip_accents=None, token_pattern='(?u)\\\\b\\\\w\\\\w+\\\\b',\n",
       "                tokenizer=None, vocabulary=None)"
      ]
     },
     "execution_count": 26,
     "metadata": {},
     "output_type": "execute_result"
    }
   ],
   "source": [
    "count_vec = CountVectorizer(lowercase=True, analyzer='word', max_features=10000, min_df=3, stop_words='english')\n",
    "count_vec.fit(all_text)"
   ]
  },
  {
   "cell_type": "code",
   "execution_count": 44,
   "metadata": {
    "colab": {},
    "colab_type": "code",
    "id": "sOKgugwqONKZ"
   },
   "outputs": [],
   "source": [
    "train_df, valid_df = train_test_split(df, test_size=0.2, random_state=1)"
   ]
  },
  {
   "cell_type": "code",
   "execution_count": 45,
   "metadata": {
    "colab": {},
    "colab_type": "code",
    "id": "vKjbDnWw4Dsn"
   },
   "outputs": [],
   "source": [
    "def process_df(df):\n",
    "    cols = ['query', 'product_title']\n",
    "    X = df[cols].to_dict('list')\n",
    "    for k in X:\n",
    "        X[k] = list(map(preprocess, X[k]))\n",
    "    return pd.DataFrame(data=X, columns=cols)"
   ]
  },
  {
   "cell_type": "code",
   "execution_count": 46,
   "metadata": {
    "colab": {},
    "colab_type": "code",
    "id": "jZXFvY-U4Vgn"
   },
   "outputs": [],
   "source": [
    "X_train = process_df(train_df)\n",
    "X_valid = process_df(valid_df)"
   ]
  },
  {
   "cell_type": "code",
   "execution_count": 47,
   "metadata": {
    "colab": {},
    "colab_type": "code",
    "id": "WMoY3GgzPGMd"
   },
   "outputs": [],
   "source": [
    "# X_train = train_df[['query', 'product_title']]\n",
    "# X_valid = valid_df[['query', 'product_title']]"
   ]
  },
  {
   "cell_type": "code",
   "execution_count": 48,
   "metadata": {
    "colab": {},
    "colab_type": "code",
    "id": "Fg859zhuOsQN"
   },
   "outputs": [],
   "source": [
    "y_train = train_df['median_relevance'].values\n",
    "y_valid = valid_df['median_relevance'].values"
   ]
  },
  {
   "cell_type": "code",
   "execution_count": 49,
   "metadata": {
    "colab": {},
    "colab_type": "code",
    "id": "Cqs4LlQ2NYzN"
   },
   "outputs": [],
   "source": [
    "def batch_cosine_sim(a, b):\n",
    "    assert a.shape == b.shape\n",
    "    assert len(a.shape) == 2\n",
    "    norm_a = np.linalg.norm(a, axis=1) + 1e-6\n",
    "    norm_b = np.linalg.norm(b, axis=1) + 1e-6\n",
    "    c = np.multiply(a, b)\n",
    "    c = np.sum(c, axis=1)\n",
    "    c = c / (norm_a * norm_b)\n",
    "    return c"
   ]
  },
  {
   "cell_type": "code",
   "execution_count": 50,
   "metadata": {
    "colab": {},
    "colab_type": "code",
    "id": "iEM3AN4tUNtv"
   },
   "outputs": [],
   "source": [
    "# ax = plt.scatter(x=dist1[:200], y=dist2[:200], c=y_train[:200])\n",
    "# # plt.legend(labels=[1, 2, 3, 4])\n",
    "# plt.show()"
   ]
  },
  {
   "cell_type": "code",
   "execution_count": 51,
   "metadata": {
    "colab": {},
    "colab_type": "code",
    "id": "-C20ulsZtENx"
   },
   "outputs": [],
   "source": [
    "def get_bowv(text):\n",
    "    shape = glove_model['the'].shape\n",
    "    vecs = []\n",
    "    for w in text.split():\n",
    "        if w in glove_model:\n",
    "            v = glove_model[w]\n",
    "        else:\n",
    "            v = np.random.uniform(-0.05, 0.05, shape)\n",
    "        vecs.append(v)\n",
    "    vecs = np.array(vecs)\n",
    "    return np.mean(vecs, axis=0)"
   ]
  },
  {
   "cell_type": "code",
   "execution_count": 52,
   "metadata": {
    "colab": {},
    "colab_type": "code",
    "id": "Q6Cl8_1Ab4KW"
   },
   "outputs": [],
   "source": [
    "def add_comparision_feats(df):\n",
    "    df2 = df.copy()\n",
    "    a = tfidf_w.transform(df['query'].values).toarray()\n",
    "    b = tfidf_w.transform(df['product_title'].values).toarray()\n",
    "    tfidf_sim = batch_cosine_sim(a, b)\n",
    "\n",
    "    c = count_vec.transform(df['query'].values).toarray()\n",
    "    d = count_vec.transform(df['product_title'].values).toarray()\n",
    "    count_sim = batch_cosine_sim(c, d)\n",
    "\n",
    "    glove_query = np.array(list(map(get_bowv, df['query'].values)))\n",
    "    glove_title = np.array(list(map(get_bowv, df['product_title'].values)))\n",
    "    glove_sim = batch_cosine_sim(glove_query, glove_title)\n",
    "\n",
    "    # ax = plt.scatter(x=tfidf_sim[:200], y=glove_sim[:200], c=y_train[:200])\n",
    "    # plt.show()\n",
    "    \n",
    "    q_char_len = np.array(list(map(len, df['query'].values)))\n",
    "    t_char_len = np.array(list(map(len, df['product_title'].values))) + 1\n",
    "    char_len_ratio = q_char_len/t_char_len\n",
    "\n",
    "    # df2['glove_query'] = glove_query\n",
    "    # df2['glove_title'] = glove_title\n",
    "    df2['tfidf_sim'] = tfidf_sim\n",
    "    df2['count_sim'] = count_sim\n",
    "    df2['glove_sim'] = glove_sim\n",
    "    df2['char_len_ratio'] = char_len_ratio\n",
    "    return df2"
   ]
  },
  {
   "cell_type": "code",
   "execution_count": 53,
   "metadata": {
    "colab": {},
    "colab_type": "code",
    "id": "BkBiZka0c50C"
   },
   "outputs": [],
   "source": [
    "X_train_2 = add_comparision_feats(X_train)\n",
    "X_valid_2 = add_comparision_feats(X_valid)"
   ]
  },
  {
   "cell_type": "code",
   "execution_count": 54,
   "metadata": {
    "colab": {
     "base_uri": "https://localhost:8080/",
     "height": 204
    },
    "colab_type": "code",
    "executionInfo": {
     "elapsed": 5798,
     "status": "ok",
     "timestamp": 1573063279166,
     "user": {
      "displayName": "Pranav Dhakras",
      "photoUrl": "https://lh3.googleusercontent.com/a-/AAuE7mBp8lVnPLEV-c5zr6EHKCyDFslImxAjVOeIkEh8bg=s64",
      "userId": "09417730221656100181"
     },
     "user_tz": -330
    },
    "id": "amMfdJrnrnLl",
    "outputId": "0477c48c-d106-4dde-ea42-f70633143f8b"
   },
   "outputs": [
    {
     "data": {
      "text/html": [
       "<div>\n",
       "<style scoped>\n",
       "    .dataframe tbody tr th:only-of-type {\n",
       "        vertical-align: middle;\n",
       "    }\n",
       "\n",
       "    .dataframe tbody tr th {\n",
       "        vertical-align: top;\n",
       "    }\n",
       "\n",
       "    .dataframe thead th {\n",
       "        text-align: right;\n",
       "    }\n",
       "</style>\n",
       "<table border=\"1\" class=\"dataframe\">\n",
       "  <thead>\n",
       "    <tr style=\"text-align: right;\">\n",
       "      <th></th>\n",
       "      <th>query</th>\n",
       "      <th>product_title</th>\n",
       "      <th>tfidf_sim</th>\n",
       "      <th>count_sim</th>\n",
       "      <th>glove_sim</th>\n",
       "      <th>char_len_ratio</th>\n",
       "    </tr>\n",
       "  </thead>\n",
       "  <tbody>\n",
       "    <tr>\n",
       "      <th>0</th>\n",
       "      <td>double stroller</td>\n",
       "      <td>foundations lx6 6-passenger stroller</td>\n",
       "      <td>0.208738</td>\n",
       "      <td>0.408248</td>\n",
       "      <td>0.550574</td>\n",
       "      <td>0.405405</td>\n",
       "    </tr>\n",
       "    <tr>\n",
       "      <th>1</th>\n",
       "      <td>levis 505</td>\n",
       "      <td>levi's vintage clothing customized 505 jeans -...</td>\n",
       "      <td>0.178228</td>\n",
       "      <td>0.288675</td>\n",
       "      <td>0.166997</td>\n",
       "      <td>0.157895</td>\n",
       "    </tr>\n",
       "    <tr>\n",
       "      <th>2</th>\n",
       "      <td>brett favre ny titans jersey blue</td>\n",
       "      <td>ny jets childs reebok jersey #4 brett favre gr...</td>\n",
       "      <td>0.347981</td>\n",
       "      <td>0.492366</td>\n",
       "      <td>0.840454</td>\n",
       "      <td>0.471429</td>\n",
       "    </tr>\n",
       "    <tr>\n",
       "      <th>3</th>\n",
       "      <td>tv</td>\n",
       "      <td>vizio e320i-b2 32-inch 720p 60hz full-array sm...</td>\n",
       "      <td>0.000000</td>\n",
       "      <td>0.000000</td>\n",
       "      <td>0.559279</td>\n",
       "      <td>0.025316</td>\n",
       "    </tr>\n",
       "    <tr>\n",
       "      <th>4</th>\n",
       "      <td>green bay packers</td>\n",
       "      <td>green bay packers helmet clock</td>\n",
       "      <td>0.790676</td>\n",
       "      <td>0.774596</td>\n",
       "      <td>0.902818</td>\n",
       "      <td>0.548387</td>\n",
       "    </tr>\n",
       "  </tbody>\n",
       "</table>\n",
       "</div>"
      ],
      "text/plain": [
       "                               query  \\\n",
       "0                    double stroller   \n",
       "1                          levis 505   \n",
       "2  brett favre ny titans jersey blue   \n",
       "3                                 tv   \n",
       "4                  green bay packers   \n",
       "\n",
       "                                       product_title  tfidf_sim  count_sim  \\\n",
       "0               foundations lx6 6-passenger stroller   0.208738   0.408248   \n",
       "1  levi's vintage clothing customized 505 jeans -...   0.178228   0.288675   \n",
       "2  ny jets childs reebok jersey #4 brett favre gr...   0.347981   0.492366   \n",
       "3  vizio e320i-b2 32-inch 720p 60hz full-array sm...   0.000000   0.000000   \n",
       "4                     green bay packers helmet clock   0.790676   0.774596   \n",
       "\n",
       "   glove_sim  char_len_ratio  \n",
       "0   0.550574        0.405405  \n",
       "1   0.166997        0.157895  \n",
       "2   0.840454        0.471429  \n",
       "3   0.559279        0.025316  \n",
       "4   0.902818        0.548387  "
      ]
     },
     "execution_count": 54,
     "metadata": {},
     "output_type": "execute_result"
    }
   ],
   "source": [
    "# X_train_2.drop('glove_sim', axis='columns', inplace=True)\n",
    "# X_valid_2.drop('glove_sim', axis='columns', inplace=True)\n",
    "X_valid_2.head()"
   ]
  },
  {
   "cell_type": "code",
   "execution_count": 55,
   "metadata": {
    "colab": {},
    "colab_type": "code",
    "id": "A6Qo7fmnJtsH"
   },
   "outputs": [],
   "source": [
    "col_trans = ColumnTransformer(\n",
    "    [\n",
    "     ('query_tfidf', tfidf_w, 'query'),\n",
    "    #  ('query_count', count_vec, 'query'),\n",
    "     ('title_tfidf', tfidf_w, 'product_title'),\n",
    "    #  ('title_count', count_vec, 'product_title'),\n",
    "     ],\n",
    "     remainder='passthrough'\n",
    ")"
   ]
  },
  {
   "cell_type": "code",
   "execution_count": 56,
   "metadata": {
    "colab": {},
    "colab_type": "code",
    "id": "qWeuVU8ESSz5"
   },
   "outputs": [],
   "source": [
    "lin_svc = LinearSVC(class_weight='balanced')\n",
    "knn1 = KNeighborsClassifier(3)\n",
    "knn2 = KNeighborsClassifier(5)\n",
    "knn3 = KNeighborsClassifier(7)\n",
    "rid = RidgeClassifier(class_weight='balanced')\n",
    "ada = AdaBoostClassifier(n_estimators=25)\n",
    "lr = LogisticRegression(n_jobs=-1, multi_class='ovr', solver='lbfgs', class_weight='balanced')\n",
    "rf = RandomForestClassifier(n_estimators=25, n_jobs=-1, max_features='log2', max_depth=None, min_samples_leaf=1, class_weight='balanced')\n",
    "et = ExtraTreesClassifier(n_estimators=25, n_jobs=-1, max_features='log2', max_depth=None, min_samples_leaf=1, class_weight='balanced')\n",
    "bg_svc = BaggingClassifier(base_estimator=LinearSVC(class_weight='balanced'), max_samples=0.5, \n",
    "                           max_features=0.5, n_estimators=25, n_jobs=-1)\n",
    "bg_lr = BaggingClassifier(base_estimator=LogisticRegression(n_jobs=-1, multi_class='ovr', solver='lbfgs', class_weight='balanced'), \n",
    "                          max_samples=0.5, max_features=0.5, n_estimators=25, n_jobs=-1)"
   ]
  },
  {
   "cell_type": "code",
   "execution_count": 57,
   "metadata": {
    "colab": {
     "base_uri": "https://localhost:8080/",
     "height": 289
    },
    "colab_type": "code",
    "executionInfo": {
     "elapsed": 30817,
     "status": "ok",
     "timestamp": 1573063305686,
     "user": {
      "displayName": "Pranav Dhakras",
      "photoUrl": "https://lh3.googleusercontent.com/a-/AAuE7mBp8lVnPLEV-c5zr6EHKCyDFslImxAjVOeIkEh8bg=s64",
      "userId": "09417730221656100181"
     },
     "user_tz": -330
    },
    "id": "rLZ3JHGlli2-",
    "outputId": "6c862a28-203d-4f38-c4bb-94be043a3ee2"
   },
   "outputs": [
    {
     "name": "stdout",
     "output_type": "stream",
     "text": [
      "lr\n",
      "0.6098876271187227\n",
      "\n",
      "\n",
      "lin_svc\n",
      "0.6190645250588552\n",
      "\n",
      "\n",
      "bg_svc\n",
      "0.6283602431931831\n",
      "\n",
      "\n",
      "bg_lr\n",
      "0.600860634563839\n",
      "\n",
      "\n"
     ]
    }
   ],
   "source": [
    "estimators = [\n",
    "            ('lr', lr),\n",
    "            ('lin_svc', lin_svc),\n",
    "            # ('knn1', knn1),\n",
    "            # ('knn2', knn2),\n",
    "            # ('knn3', knn3),\n",
    "            # ('rf', rf),\n",
    "            # ('et', et),\n",
    "            ('bg_svc', bg_svc),\n",
    "            ('bg_lr', bg_lr)\n",
    "            ]\n",
    "for i in range(len(estimators)):\n",
    "    print(estimators[i][0])\n",
    "    # clfr = VotingClassifier(estimators=est2, n_jobs=-1, voting='hard')\n",
    "    clfr = estimators[i][1]\n",
    "    # print(clfr)\n",
    "    pipe = Pipeline([\n",
    "                     ('col_trans', col_trans),\n",
    "                     ('clfr', clfr)\n",
    "                     ])\n",
    "    _ = pipe.fit(X=X_train_2, y=y_train)\n",
    "    y_preds = pipe.predict(X_valid_2)\n",
    "    print(quadratic_weighted_kappa(y_valid, y_preds))\n",
    "    print('\\n')"
   ]
  },
  {
   "cell_type": "code",
   "execution_count": 58,
   "metadata": {
    "colab": {},
    "colab_type": "code",
    "id": "qQX2j0afpllM"
   },
   "outputs": [],
   "source": [
    "clfr = VotingClassifier(estimators=[\n",
    "                                    ('lr', lr),\n",
    "                                    # ('lin_svc', lin_svc),\n",
    "                                    ('knn1', knn1),\n",
    "                                    ('knn2', knn2),\n",
    "                                    ('knn3', knn3),\n",
    "                                    ('rf', rf),\n",
    "                                    ('et', et),\n",
    "                                    ('bg_svc', bg_svc),\n",
    "                                    ('bg_lr', bg_lr)\n",
    "                                    ], \n",
    "                        n_jobs=-1, voting='soft')"
   ]
  },
  {
   "cell_type": "code",
   "execution_count": 59,
   "metadata": {
    "colab": {},
    "colab_type": "code",
    "id": "A_OGshOxdgPx"
   },
   "outputs": [],
   "source": [
    "pipeline = Pipeline([\n",
    "                     ('col_trans', col_trans),\n",
    "                     ('clfr', clfr)\n",
    "                     ])"
   ]
  },
  {
   "cell_type": "code",
   "execution_count": 60,
   "metadata": {
    "colab": {
     "base_uri": "https://localhost:8080/",
     "height": 105
    },
    "colab_type": "code",
    "executionInfo": {
     "elapsed": 58236,
     "status": "ok",
     "timestamp": 1573063334437,
     "user": {
      "displayName": "Pranav Dhakras",
      "photoUrl": "https://lh3.googleusercontent.com/a-/AAuE7mBp8lVnPLEV-c5zr6EHKCyDFslImxAjVOeIkEh8bg=s64",
      "userId": "09417730221656100181"
     },
     "user_tz": -330
    },
    "id": "WwYnQmcgh21z",
    "outputId": "e2061a9e-4642-4090-d2f2-ebc7612f574e"
   },
   "outputs": [
    {
     "name": "stdout",
     "output_type": "stream",
     "text": [
      "CPU times: user 526 ms, sys: 244 ms, total: 770 ms\n",
      "Wall time: 10.3 s\n"
     ]
    }
   ],
   "source": [
    "%time _ = pipeline.fit(X=X_train_2, y=y_train)"
   ]
  },
  {
   "cell_type": "code",
   "execution_count": 68,
   "metadata": {
    "colab": {
     "base_uri": "https://localhost:8080/",
     "height": 51
    },
    "colab_type": "code",
    "executionInfo": {
     "elapsed": 6964,
     "status": "ok",
     "timestamp": 1573063344903,
     "user": {
      "displayName": "Pranav Dhakras",
      "photoUrl": "https://lh3.googleusercontent.com/a-/AAuE7mBp8lVnPLEV-c5zr6EHKCyDFslImxAjVOeIkEh8bg=s64",
      "userId": "09417730221656100181"
     },
     "user_tz": -330
    },
    "id": "UmKrVznvkpe8",
    "outputId": "972755d7-33cb-4efd-ede4-0b9465bd6944"
   },
   "outputs": [
    {
     "name": "stdout",
     "output_type": "stream",
     "text": [
      "[4 4 2 ... 4 2 4]\n"
     ]
    },
    {
     "data": {
      "text/plain": [
       "0.6461181016862544"
      ]
     },
     "execution_count": 68,
     "metadata": {},
     "output_type": "execute_result"
    }
   ],
   "source": [
    "y_preds = pipeline.predict(X_valid_2)\n",
    "print(y_preds)\n",
    "quadratic_weighted_kappa(y_valid, y_preds)"
   ]
  },
  {
   "cell_type": "code",
   "execution_count": 69,
   "metadata": {},
   "outputs": [
    {
     "name": "stdout",
     "output_type": "stream",
     "text": [
      "[[  95   42   14   23]\n",
      " [  27  118   42  106]\n",
      " [  13   52   83  198]\n",
      " [   5   45   71 1098]]\n"
     ]
    }
   ],
   "source": [
    "print(confusion_matrix(y_valid, y_preds))"
   ]
  },
  {
   "cell_type": "code",
   "execution_count": null,
   "metadata": {
    "colab": {},
    "colab_type": "code",
    "id": "imrw-Lk3R9jP"
   },
   "outputs": [],
   "source": [
    "# y_preds = pipeline.predict(X_train)\n",
    "# print(y_preds)\n",
    "# quadratic_weighted_kappa(y_train, y_preds)"
   ]
  },
  {
   "cell_type": "code",
   "execution_count": 62,
   "metadata": {
    "colab": {},
    "colab_type": "code",
    "id": "ajaOBZVEiFPF"
   },
   "outputs": [],
   "source": [
    "test_file = f'{data_dir}/test.csv'\n",
    "test_df = pd.read_csv(test_file)\n",
    "test_df.fillna('', inplace=True)\n",
    "X_test = process_df(test_df)\n",
    "ids = list(test_df['id'])\n",
    "X_test_2 = add_comparision_feats(X_test)"
   ]
  },
  {
   "cell_type": "code",
   "execution_count": 63,
   "metadata": {
    "colab": {},
    "colab_type": "code",
    "id": "v0_pS2YpJZ-M"
   },
   "outputs": [],
   "source": [
    "y_preds = pipeline.predict(X_test_2)\n",
    "submission = pd.DataFrame({\"id\": ids, \"prediction\": y_preds})\n",
    "submission.to_csv(\"submission.csv\", index=False)"
   ]
  },
  {
   "cell_type": "code",
   "execution_count": 65,
   "metadata": {
    "colab": {
     "base_uri": "https://localhost:8080/",
     "height": 68
    },
    "colab_type": "code",
    "executionInfo": {
     "elapsed": 5161,
     "status": "ok",
     "timestamp": 1573063092668,
     "user": {
      "displayName": "Pranav Dhakras",
      "photoUrl": "https://lh3.googleusercontent.com/a-/AAuE7mBp8lVnPLEV-c5zr6EHKCyDFslImxAjVOeIkEh8bg=s64",
      "userId": "09417730221656100181"
     },
     "user_tz": -330
    },
    "id": "FO3PEzG70B1o",
    "outputId": "e53f2b66-d41b-429a-cea4-4bad886d69a3"
   },
   "outputs": [
    {
     "name": "stdout",
     "output_type": "stream",
     "text": [
      "Warning: Your Kaggle API key is readable by other users on this system! To fix this, you can run 'chmod 600 /Users/iamplus/.kaggle/kaggle.json'\n",
      "100%|████████████████████████████████████████| 168k/168k [00:13<00:00, 12.7kB/s]\n",
      "Successfully submitted to Crowdflower Search Results Relevance"
     ]
    }
   ],
   "source": [
    "!kaggle competitions submit -c crowdflower-search-relevance -f submission.csv -m \"feat eng voting 3\""
   ]
  },
  {
   "cell_type": "code",
   "execution_count": null,
   "metadata": {},
   "outputs": [],
   "source": []
  }
 ],
 "metadata": {
  "accelerator": "GPU",
  "colab": {
   "collapsed_sections": [],
   "name": "tfidf_voting.ipynb",
   "provenance": [
    {
     "file_id": "1Vg2pxHf2Ck2qtAxXeme1hATj4xKiWd5I",
     "timestamp": 1572887546182
    },
    {
     "file_id": "15YyE-sxbGdZPe-ypn72380SQy_hviL7s",
     "timestamp": 1572866013429
    }
   ]
  },
  "kernelspec": {
   "display_name": "Python 3",
   "language": "python",
   "name": "python3"
  },
  "language_info": {
   "codemirror_mode": {
    "name": "ipython",
    "version": 3
   },
   "file_extension": ".py",
   "mimetype": "text/x-python",
   "name": "python",
   "nbconvert_exporter": "python",
   "pygments_lexer": "ipython3",
   "version": "3.6.8"
  }
 },
 "nbformat": 4,
 "nbformat_minor": 1
}
